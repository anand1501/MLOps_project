{
 "cells": [
  {
   "cell_type": "code",
   "execution_count": 2,
   "metadata": {},
   "outputs": [],
   "source": [
    "# Import essentials\n",
    "import keras\n",
    "from keras.datasets import mnist\n",
    "from keras.models import Sequential\n",
    "from keras.utils.np_utils import to_categorical\n",
    "from keras.layers import Dense\n",
    "from keras.optimizers import Adam\n",
    "from keras.backend import clear_session\n",
    "import numpy\n",
    "\n",
    "\n"
   ]
  },
  {
   "cell_type": "code",
   "execution_count": 3,
   "metadata": {},
   "outputs": [],
   "source": [
    "# Train model function\n",
    "def train_model(neurons , model , epochs , test) : \n",
    "\tprint(\"\\n\" , \" *** Summary *** \" , \"\\n\", \"Iteration  : \", test , \"\\n\" , \"   Number of Neurons : \", neurons , \"\\n\" , \"   Number of Epochs : \",  epochs)\n",
    "\tmodel.add(Dense(units = neurons , input_dim = 28*28 , activation = 'relu'))\n",
    "\tmodel.add(Dense(units=200 , input_dim = 28*28 , activation = 'relu'))\n",
    "\tmodel.add(Dense(units=60 , input_dim = 28*28 , activation = 'relu'))\n",
    "\tmodel.add(Dense(units=10 , input_dim = 28*28 , activation = 'softmax'))\n",
    "\tmodel.compile( optimizer= \"Adam\" , loss='categorical_crossentropy', \n",
    "\t             metrics=['accuracy'] )\n",
    "\treturn model\n",
    "\n"
   ]
  },
  {
   "cell_type": "code",
   "execution_count": 4,
   "metadata": {},
   "outputs": [],
   "source": [
    "def validate(fit_model, epochs):\n",
    "\ttext = fit_model.history\n",
    "\taccuracy = text['accuracy'][epochs-1] * 100\n",
    "\taccuracy = int(accuracy)\n",
    "\tf= open(\"accuracy.txt\",\"w+\")\n",
    "\tf.write(str(accuracy))\n",
    "\tf.close()\n",
    "\tprint(\"    Accuracy for this Iteration is : \" , accuracy ,\"%\")\n",
    "\treturn accuracy\n",
    "\n"
   ]
  },
  {
   "cell_type": "code",
   "execution_count": 5,
   "metadata": {},
   "outputs": [
    {
     "name": "stdout",
     "output_type": "stream",
     "text": [
      "\n",
      "  *** Summary ***  \n",
      " Iteration  :  1 \n",
      "    Number of Neurons :  10 \n",
      "    Number of Epochs :  1\n",
      "    calculating accuracy . . .\n",
      "    Accuracy for this Iteration is :  58 %\n",
      "\n",
      "  *** Summary ***  \n",
      " Iteration  :  2 \n",
      "    Number of Neurons :  20 \n",
      "    Number of Epochs :  2\n",
      "    calculating accuracy . . .\n",
      "    Accuracy for this Iteration is :  90 %\n"
     ]
    }
   ],
   "source": [
    "# Load Model \n",
    "(train_X , train_y), (test_X , test_y) = mnist.load_data(\"mymnist.data\")\n",
    "# Reshape data and change type\n",
    "test_X = test_X.reshape(-1 , 28*28)\n",
    "train_X = train_X.reshape(-1 ,  28*28)\n",
    "test_X = test_X.astype(\"float32\")\n",
    "train_X = train_X.astype(\"float32\")\n",
    "# One hot encoding \n",
    "test_y = to_categorical(test_y)\n",
    "train_y = to_categorical(train_y)\n",
    "#Initials\n",
    "neurons = 10\n",
    "accuracy = 0\n",
    "epochs = 1\n",
    "test = 1\n",
    "flag = 0\n",
    "\n",
    "while int(accuracy) < 90 :\n",
    "\tif flag == 1 :\n",
    "\t\tmodel = keras.backend.clear_session()\n",
    "\t\tneurons = neurons+10\n",
    "\t\tepochs = epochs+1 \n",
    "\t\ttest = test + 1\n",
    "\t#model=reset_weights(model)\n",
    "\tmodel = Sequential()\n",
    "\tmodel = train_model(neurons , model , epochs , test)\n",
    "\tprint(\"    calculating accuracy . . .\")\n",
    "\tfit_model = model.fit(train_X ,  train_y , epochs = epochs , verbose =  False)\n",
    "\taccuracy=validate(fit_model , epochs)\n",
    "\tflag = 1\n",
    "\n"
   ]
  },
  {
   "cell_type": "code",
   "execution_count": 7,
   "metadata": {},
   "outputs": [],
   "source": [
    "import smtplib\n",
    "s = smtplib.SMTP('smtp.gmail.com', 587)\n",
    "s.starttls()\n",
    "s.login(\"abc@gmail.com\", \"********\")\n",
    "    # message\n",
    "message1 = \"success\"\n",
    "    # sending the mail \n",
    "s.sendmail(\"abc@gmail.com\", \"xyz@gmail.com\", message1)\n",
    "    # terminating the session \n",
    "s.quit()"
   ]
  },
  {
   "cell_type": "code",
   "execution_count": null,
   "metadata": {},
   "outputs": [],
   "source": []
  }
 ],
 "metadata": {
  "kernelspec": {
   "display_name": "Python 3",
   "language": "python",
   "name": "python3"
  },
  "language_info": {
   "codemirror_mode": {
    "name": "ipython",
    "version": 3
   },
   "file_extension": ".py",
   "mimetype": "text/x-python",
   "name": "python",
   "nbconvert_exporter": "python",
   "pygments_lexer": "ipython3",
   "version": "3.7.7"
  }
 },
 "nbformat": 4,
 "nbformat_minor": 4
}
