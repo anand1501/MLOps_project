{
 "cells": [
  {
   "cell_type": "code",
   "execution_count": 1,
   "metadata": {},
   "outputs": [
    {
     "name": "stderr",
     "output_type": "stream",
     "text": [
      "Using TensorFlow backend.\n"
     ]
    },
    {
     "name": "stdout",
     "output_type": "stream",
     "text": [
      "A local file was found, but it seems to be incomplete or outdated because the auto file hash does not match the original value of 8a61469f7ea1b51cbae51d4f78837e45 so we will re-download the data.\n",
      "Downloading data from https://s3.amazonaws.com/img-datasets/mnist.npz\n",
      "11493376/11490434 [==============================] - 236s 21us/step\n",
      "Accuracy is :  87 %\n"
     ]
    }
   ],
   "source": [
    "import numpy\n",
    "import keras\n",
    "from keras.datasets import mnist\n",
    "from keras.models import Sequential\n",
    "from keras.utils.np_utils import to_categorical\n",
    "from keras.layers import Dense\n",
    "from keras.optimizers import Adam\n",
    "from keras.backend import clear_session\n",
    "\n",
    "(train_X , train_y), (test_X , test_y) = mnist.load_data(\"mymnist.data\")\n",
    "\n",
    "test_X = test_X.reshape(-1 , 28*28)\n",
    "train_X = train_X.reshape(-1 ,  28*28)\n",
    "test_X = test_X.astype(\"float32\")\n",
    "train_X = train_X.astype(\"float32\")\n",
    "\n",
    "test_y = to_categorical(test_y)\n",
    "train_y = to_categorical(train_y)\n",
    "\n",
    "model = Sequential()\n",
    "model.add(Dense(units = 20 , input_dim = 28*28 , activation = 'relu'))\n",
    "model.add(Dense(units=60 , input_dim = 28*28 , activation = 'relu'))\n",
    "model.add(Dense(units=10 , input_dim = 28*28 , activation = 'softmax'))\n",
    "model.compile( optimizer= \"Adam\" , loss='categorical_crossentropy', metrics=['accuracy'] )\n",
    "fit_model = model.fit(train_X ,  train_y , epochs = 2 , verbose =  False)\n",
    "\n",
    "text = fit_model.history\n",
    "accuracy = text['accuracy'][1] * 100\n",
    "accuracy = int(accuracy)\n",
    "f= open(\"accuracy.txt\",\"w+\")\n",
    "f.write(str(accuracy))\n",
    "f.close()\n",
    "print(\"Accuracy is : \" , accuracy ,\"%\")"
   ]
  },
  {
   "cell_type": "code",
   "execution_count": null,
   "metadata": {},
   "outputs": [],
   "source": []
  }
 ],
 "metadata": {
  "kernelspec": {
   "display_name": "Python 3",
   "language": "python",
   "name": "python3"
  },
  "language_info": {
   "codemirror_mode": {
    "name": "ipython",
    "version": 3
   },
   "file_extension": ".py",
   "mimetype": "text/x-python",
   "name": "python",
   "nbconvert_exporter": "python",
   "pygments_lexer": "ipython3",
   "version": "3.7.7"
  }
 },
 "nbformat": 4,
 "nbformat_minor": 4
}
